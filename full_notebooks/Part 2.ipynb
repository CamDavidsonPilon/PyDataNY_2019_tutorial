{
 "cells": [
  {
   "cell_type": "markdown",
   "metadata": {},
   "source": [
    "### Introducing censoring\n",
    "\n",
    "![img](https://lifelines.readthedocs.io/en/latest/_images/survival_analysis_intro_censoring.png)\n",
    "\n",
    "\n",
    "![img2](https://lifelines.readthedocs.io/en/latest/_images/survival_analysis_intro_censoring_revealed.png)"
   ]
  },
  {
   "cell_type": "markdown",
   "metadata": {},
   "source": [
    "All we know is that actual lifetime is greater than some threshold. Mathematically, we know $P(T \\ge t) = 1 - F(t) := S(t)$. We can use this in our log likelihood:\n",
    "\n",
    "No censoring cases:\n",
    "\n",
    "$$l(\\theta, t) = \\sum_{\\text{observed}} \\log{\\text{pdf}(\\theta, t)} $$\n",
    "\n",
    "With censoring cases:\n",
    "$$ \n",
    "\\begin{align}\n",
    "l(\\theta, t) & = \\sum_{\\text{observed}} \\log{\\text{pdf}(t, \\theta)} + \\sum_{\\text{censored}} \\log{\\text{S}(t, \\theta)} \\\\\n",
    "& = \\sum_{\\text{observed}} \\log{\\text{pdf}(t, \\theta)} \\frac{S(t)}{S(t)} + \\sum_{\\text{censored}} \\log{\\text{S}(t, \\theta)} \\\\\n",
    "& = \\sum_{\\text{observed}} (\\log{\\frac{\\text{pdf}(t, \\theta)}{S(t)}} + \\log{S(t)}) + \\sum_{\\text{censored}} \\log{\\text{S}(t, \\theta)} \\\\\n",
    "& = \\sum_{\\text{observed}} \\log{\\frac{\\text{pdf}(t, \\theta)}{S(t)}} + \\sum_{\\text{observed}} \\log{S(t)} + \\sum_{\\text{censored}} \\log{\\text{S}(t, \\theta)} \\\\\n",
    "& = \\sum_{\\text{observed}} \\log{\\frac{\\text{pdf}(t, \\theta)}{S(t)}} + \\sum \\log{S(t)} \n",
    "\\end{align}\n",
    "$$\n",
    "\n",
    "\n",
    "\n",
    "The $-\\log{S(t)}$ is known as the _cumulative hazard_, denoted $H(t)$. \n",
    "\n",
    "$$l(\\theta, t) = \\sum_{\\text{observed}} \\log{\\frac{\\text{pdf}(t, \\theta)}{S(t)}} - \\sum H(t, \\theta) $$\n",
    "\n",
    "Also, $\\frac{dH}{dt} = \\frac{\\text{pdf}(t, \\theta)}{S(t)}$. Denote that $h(t)$. \n",
    "\n",
    "$$l(\\theta, t) = \\sum_{\\text{observed}} \\log{h(t, \\theta}) - \\sum H(t, \\theta) $$"
   ]
  },
  {
   "cell_type": "markdown",
   "metadata": {},
   "source": [
    "Phew! Now, instead of working in probability space, we will work in hazard space! Here's a link to all the relatioships: https://lifelines.readthedocs.io/en/latest/Survival%20Analysis%20intro.html#hazard-function "
   ]
  },
  {
   "cell_type": "code",
   "execution_count": 26,
   "metadata": {},
   "outputs": [],
   "source": [
    "# the hazard and cumulative hazard for Weibull are much simplier to implement 😗👌\n",
    "\n",
    "def cumulative_hazard(params, t):\n",
    "    lambda_, rho_ = params\n",
    "    return (t / lambda_) ** rho_\n",
    "\n",
    "def hazard(params, t):\n",
    "    # diff of cumulative hazard w.r.t. t\n",
    "    lambda_, rho_ = params\n",
    "    return rho_ / lambda_ * (t / lambda_) ** (rho_ - 1)\n",
    "\n",
    "def log_hazard(params, t):\n",
    "    lambda_, rho_ = params\n",
    "    return np.log(rho_) - np.log(lambda_) + (rho_ - 1) * (np.log(t) - np.log(lambda_))\n",
    "\n",
    "\n",
    "\n",
    "def log_likelihood(params, t, e):\n",
    "    return np.sum(e * log_hazard(params, t)) - np.sum(cumulative_hazard(params, t))\n"
   ]
  },
  {
   "cell_type": "code",
   "execution_count": 27,
   "metadata": {},
   "outputs": [
    {
     "name": "stdout",
     "output_type": "stream",
     "text": [
      "      fun: -inf\n",
      " hess_inv: <2x2 LbfgsInvHessProduct with dtype=float64>\n",
      "      jac: array([ 1.68816483e+119, -5.60856575e+117])\n",
      "  message: b'ABNORMAL_TERMINATION_IN_LNSRCH'\n",
      "     nfev: 156\n",
      "      nit: 1\n",
      "   status: 2\n",
      "  success: False\n",
      "        x: array([ 10.94470705, 298.91507043])\n"
     ]
    },
    {
     "name": "stderr",
     "output_type": "stream",
     "text": [
      "/Users/camerondavidson-pilon/venvs/data/lib/python3.7/site-packages/ipykernel_launcher.py:5: RuntimeWarning: overflow encountered in power\n",
      "  \"\"\"\n"
     ]
    }
   ],
   "source": [
    "T = (np.random.exponential(size=1000)/1.5) ** 2.3\n",
    "E = np.random.binomial(1, 0.95, size=1000)\n",
    "\n",
    "from scipy.optimize import minimize\n",
    "\n",
    "results = minimize(log_likelihood, \n",
    "        x0 = np.array([1.0, 1.0]),\n",
    "        method=None, \n",
    "        args=(T, E),\n",
    "        bounds=((0.00001, None), (0.00001, None)))\n",
    "\n",
    "print(results)"
   ]
  },
  {
   "cell_type": "code",
   "execution_count": 28,
   "metadata": {},
   "outputs": [
    {
     "name": "stdout",
     "output_type": "stream",
     "text": [
      "      fun: 72.94468648864824\n",
      " hess_inv: <2x2 LbfgsInvHessProduct with dtype=float64>\n",
      "      jac: array([1.13686838e-05, 1.13686838e-05])\n",
      "  message: b'CONVERGENCE: REL_REDUCTION_OF_F_<=_FACTR*EPSMCH'\n",
      "     nfev: 33\n",
      "      nit: 10\n",
      "   status: 0\n",
      "  success: True\n",
      "        x: array([0.38907425, 0.43924119])\n"
     ]
    }
   ],
   "source": [
    "def negative_log_likelihood(params, t, e):\n",
    "    return -log_likelihood(params, t, e)\n",
    "\n",
    "results = minimize(negative_log_likelihood, \n",
    "        x0 = np.array([1.0, 1.0]),\n",
    "        method=None, \n",
    "        args=(T, E),\n",
    "        bounds=((0., None), (0., None)))\n",
    "\n",
    "print(results)"
   ]
  },
  {
   "cell_type": "markdown",
   "metadata": {},
   "source": [
    "Let's move to part 3. "
   ]
  },
  {
   "cell_type": "code",
   "execution_count": 29,
   "metadata": {},
   "outputs": [
    {
     "name": "stdout",
     "output_type": "stream",
     "text": [
      "8.32 ms ± 1.46 ms per loop (mean ± std. dev. of 7 runs, 100 loops each)\n"
     ]
    }
   ],
   "source": [
    "%timeit minimize(negative_log_likelihood, x0 = np.array([1.0, 1.0]), method=None, args=(T, E), bounds=((0., None), (0., None)))"
   ]
  },
  {
   "cell_type": "code",
   "execution_count": null,
   "metadata": {},
   "outputs": [],
   "source": []
  }
 ],
 "metadata": {
  "kernelspec": {
   "display_name": "Python 3",
   "language": "python",
   "name": "python3"
  },
  "language_info": {
   "codemirror_mode": {
    "name": "ipython",
    "version": 3
   },
   "file_extension": ".py",
   "mimetype": "text/x-python",
   "name": "python",
   "nbconvert_exporter": "python",
   "pygments_lexer": "ipython3",
   "version": "3.7.3"
  }
 },
 "nbformat": 4,
 "nbformat_minor": 2
}
