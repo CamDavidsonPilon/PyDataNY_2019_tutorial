{
 "cells": [
  {
   "cell_type": "markdown",
   "metadata": {},
   "source": [
    "# Part 1 \n",
    "\n",
    " - start with fitting data to a parametric model\n",
    " \n",
    " - so we need to create the log-likehood\n",
    " - let's create some fake data first."
   ]
  },
  {
   "cell_type": "code",
   "execution_count": 5,
   "metadata": {},
   "outputs": [
    {
     "data": {
      "image/png": "[encoded data removed]",
      "text/plain": [
       "<Figure size 432x288 with 1 Axes>"
      ]
     },
     "metadata": {
      "needs_background": "light"
     },
     "output_type": "display_data"
    }
   ],
   "source": [
    "%matplotlib inline\n",
    "import numpy as np\n",
    "from matplotlib import pyplot as plt\n",
    "\n",
    "\n",
    "T = (np.random.exponential(size=1000)/1.5) ** 2.3\n",
    "\n",
    "plt.hist(T, bins=50);"
   ]
  },
  {
   "cell_type": "markdown",
   "metadata": {},
   "source": [
    "Let's use the Weibull parametric model: https://en.wikipedia.org/wiki/Weibull_distribution"
   ]
  },
  {
   "cell_type": "code",
   "execution_count": 8,
   "metadata": {},
   "outputs": [],
   "source": [
    "def pdf(params, t):\n",
    "    lambda_, rho_ = params\n",
    "    # I'm not going to make you type this out - it's annoying and error prone. \n",
    "    return rho_ / lambda_ * (t / lambda_) ** (rho_ - 1) * np.exp(-(t/lambda_) ** rho_)\n",
    "\n",
    "# okay, but we actually need the _log_ of the pdf\n",
    "def log_pdf(params, t):\n",
    "    lambda_, rho_ = params\n",
    "    # I'm not going to make you type this out - it's annoying and error prone. \n",
    "    return np.log(rho_) - np.log(lambda_) + (rho_ - 1) * (np.log(t) - np.log(lambda_)) - (t/lambda_) ** rho_\n",
    "\n",
    "# now we can define the log likehood\n",
    "\n",
    "def log_likelihood(params, t):\n",
    "    return np.sum(log_pdf(params, t)) \n"
   ]
  },
  {
   "cell_type": "markdown",
   "metadata": {},
   "source": [
    "## `scipy.optimize.minimize`"
   ]
  },
  {
   "cell_type": "code",
   "execution_count": 10,
   "metadata": {
    "slideshow": {
     "slide_type": "-"
    }
   },
   "outputs": [
    {
     "name": "stdout",
     "output_type": "stream",
     "text": [
      "      fun: -943.2248593937613\n",
      " hess_inv: array([[1, 0],\n",
      "       [0, 1]])\n",
      "      jac: array([  -56.77513885, -2569.54563904])\n",
      "  message: 'Desired error not necessarily achieved due to precision loss.'\n",
      "     nfev: 137\n",
      "      nit: 0\n",
      "     njev: 32\n",
      "   status: 2\n",
      "  success: False\n",
      "        x: array([1., 1.])\n"
     ]
    }
   ],
   "source": [
    "from scipy.optimize import minimize\n",
    "\n",
    "results = minimize(log_likelihood, \n",
    "        x0 = np.array([1.0, 1.0]),  # some initial guess of the parameters. \n",
    "        method=None, \n",
    "        args=(T, ))\n",
    "\n",
    "print(results)"
   ]
  },
  {
   "cell_type": "code",
   "execution_count": 15,
   "metadata": {},
   "outputs": [],
   "source": [
    "def log_likelihood(params, t):\n",
    "    return -np.sum(log_pdf(params, t)) \n"
   ]
  },
  {
   "cell_type": "code",
   "execution_count": 16,
   "metadata": {},
   "outputs": [
    {
     "name": "stdout",
     "output_type": "stream",
     "text": [
      "      fun: nan\n",
      " hess_inv: array([[1, 0],\n",
      "       [0, 1]])\n",
      "      jac: array([nan, nan])\n",
      "  message: 'Desired error not necessarily achieved due to precision loss.'\n",
      "     nfev: 448\n",
      "      nit: 1\n",
      "     njev: 112\n",
      "   status: 2\n",
      "  success: False\n",
      "        x: array([  -21.84637036, -1032.98763095])\n"
     ]
    },
    {
     "name": "stderr",
     "output_type": "stream",
     "text": [
      "/Users/camerondavidson-pilon/venvs/data/lib/python3.7/site-packages/ipykernel_launcher.py:10: RuntimeWarning: invalid value encountered in log\n",
      "  # Remove the CWD from sys.path while we load stuff.\n",
      "/Users/camerondavidson-pilon/venvs/data/lib/python3.7/site-packages/ipykernel_launcher.py:10: RuntimeWarning: invalid value encountered in power\n",
      "  # Remove the CWD from sys.path while we load stuff.\n",
      "/Users/camerondavidson-pilon/venvs/data/lib/python3.7/site-packages/ipykernel_launcher.py:10: RuntimeWarning: overflow encountered in power\n",
      "  # Remove the CWD from sys.path while we load stuff.\n",
      "/Users/camerondavidson-pilon/venvs/data/lib/python3.7/site-packages/ipykernel_launcher.py:10: RuntimeWarning: invalid value encountered in log\n",
      "  # Remove the CWD from sys.path while we load stuff.\n",
      "/Users/camerondavidson-pilon/venvs/data/lib/python3.7/site-packages/ipykernel_launcher.py:10: RuntimeWarning: overflow encountered in power\n",
      "  # Remove the CWD from sys.path while we load stuff.\n",
      "/Users/camerondavidson-pilon/venvs/data/lib/python3.7/site-packages/ipykernel_launcher.py:10: RuntimeWarning: invalid value encountered in power\n",
      "  # Remove the CWD from sys.path while we load stuff.\n",
      "/Users/camerondavidson-pilon/venvs/data/lib/python3.7/site-packages/ipykernel_launcher.py:10: RuntimeWarning: invalid value encountered in log\n",
      "  # Remove the CWD from sys.path while we load stuff.\n",
      "/Users/camerondavidson-pilon/venvs/data/lib/python3.7/site-packages/ipykernel_launcher.py:10: RuntimeWarning: invalid value encountered in power\n",
      "  # Remove the CWD from sys.path while we load stuff.\n"
     ]
    }
   ],
   "source": [
    "results = minimize(log_likelihood, \n",
    "        x0 = np.array([1.0, 1.0]),  # some initial guess of the parameters. \n",
    "        method=None, \n",
    "        args=(T, ))\n",
    "\n",
    "print(results)"
   ]
  },
  {
   "cell_type": "code",
   "execution_count": 18,
   "metadata": {},
   "outputs": [
    {
     "name": "stdout",
     "output_type": "stream",
     "text": [
      "      fun: 59.79409380937696\n",
      " hess_inv: <2x2 LbfgsInvHessProduct with dtype=float64>\n",
      "      jac: array([-5.68434189e-06, -8.52651283e-06])\n",
      "  message: b'CONVERGENCE: NORM_OF_PROJECTED_GRADIENT_<=_PGTOL'\n",
      "     nfev: 33\n",
      "      nit: 10\n",
      "   status: 0\n",
      "  success: True\n",
      "        x: array([0.36117292, 0.43729557])\n"
     ]
    }
   ],
   "source": [
    "# weibull parameters must be greater than 0!\n",
    "# we can \"nudge\" the minimizer to understand this using the bounds argument\n",
    "results = minimize(log_likelihood, \n",
    "        x0 = np.array([1.0, 1.0]),\n",
    "        method=None, \n",
    "        args=(T, ),\n",
    "        bounds=((0, None), (0, None)))\n",
    "\n",
    "print(results)"
   ]
  },
  {
   "cell_type": "markdown",
   "metadata": {},
   "source": [
    "## Takeaway: `minimize` is a very flexible function for small-mid size parameter optimization"
   ]
  },
  {
   "cell_type": "markdown",
   "metadata": {},
   "source": [
    "### A few problems though:\n",
    "\n",
    "1. You are stuck with only using known parametric models that are easy to implement. \n",
    "2. Not very fast minimization routines\n",
    "\n",
    "Let's move to Part 2. "
   ]
  }
 ],
 "metadata": {
  "kernelspec": {
   "display_name": "Python 3",
   "language": "python",
   "name": "python3"
  },
  "language_info": {
   "codemirror_mode": {
    "name": "ipython",
    "version": 3
   },
   "file_extension": ".py",
   "mimetype": "text/x-python",
   "name": "python",
   "nbconvert_exporter": "python",
   "pygments_lexer": "ipython3",
   "version": "3.7.3"
  }
 },
 "nbformat": 4,
 "nbformat_minor": 2
}
